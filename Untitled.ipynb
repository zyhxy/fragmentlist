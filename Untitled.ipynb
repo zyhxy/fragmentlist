{
 "cells": [
  {
   "cell_type": "code",
   "execution_count": 22,
   "metadata": {
    "collapsed": true
   },
   "outputs": [],
   "source": [
    "\n",
    "        "
   ]
  },
  {
   "cell_type": "code",
   "execution_count": null,
   "metadata": {
    "collapsed": true
   },
   "outputs": [],
   "source": []
  },
  {
   "cell_type": "code",
   "execution_count": 14,
   "metadata": {
    "collapsed": true
   },
   "outputs": [],
   "source": [
    "def splitting_function(data,motif):\n",
    "    number_of_records = len(data.index)\n",
    "    left_node_data = data[data[motif]==1]\n",
    "    right_node_data = data[data[motif]==0]\n",
    "    number_of_records_left = len(left_node_data.index)\n",
    "    number_of_records_right = len(right_node_data.index)\n",
    "    if number_of_records_left == 0 or number_of_records_right == 0:\n",
    "        return 0.0\n",
    "    P_l = number_of_records_left/float(number_of_records)\n",
    "    P_r = number_of_records_right/float(number_of_records)\n",
    "    P_j1_left = len(left_node_data[left_node_data['class']==1].index)/float(number_of_records_left)\n",
    "    P_j1_right = len(right_node_data[right_node_data['class']==1].index)/float(number_of_records_right)\n",
    "    P_j_1_left = len(left_node_data[left_node_data['class']==-1].index)/float(number_of_records_left)\n",
    "    P_j_1_right = len(right_node_data[right_node_data['class']==-1].index)/float(number_of_records_right)\n",
    "    \n",
    "    Phi = 2*P_l*P_r*(abs(P_j1_left-P_j1_right)+abs(P_j_1_left-P_j_1_right))\n",
    "    return Phi"
   ]
  },
  {
   "cell_type": "code",
   "execution_count": 25,
   "metadata": {
    "collapsed": true
   },
   "outputs": [],
   "source": [
    "def find_best_motif(data):\n",
    "    my_dict = {}\n",
    "    for i in data.columns[:-1]:\n",
    "        my_dict[i] = splitting_function(data,i)\n",
    "    sorted_dict = sorted(my_dict,key = my_dict.get, reverse = True)\n",
    "    return sorted_dict[0],my_dict[sorted_dict[0]]"
   ]
  },
  {
   "cell_type": "code",
   "execution_count": 3,
   "metadata": {
    "collapsed": true
   },
   "outputs": [],
   "source": [
    "import pandas as pd\n",
    "my_data = pd.DataFrame()"
   ]
  },
  {
   "cell_type": "code",
   "execution_count": 4,
   "metadata": {
    "collapsed": true
   },
   "outputs": [],
   "source": [
    "my_data['m1'] = [1,0,0,1,0,0]\n",
    "my_data['m2'] = [0,1,0,0,0,0]\n",
    "my_data['m3'] = [1,1,1,1,1,0]\n",
    "my_data['class']=[1,1,1,-1,-1,-1]\n",
    "my_data.index = ['s1','s2','s3','s4','s5','s6']\n"
   ]
  },
  {
   "cell_type": "code",
   "execution_count": 5,
   "metadata": {},
   "outputs": [
    {
     "data": {
      "text/html": [
       "<div>\n",
       "<style>\n",
       "    .dataframe thead tr:only-child th {\n",
       "        text-align: right;\n",
       "    }\n",
       "\n",
       "    .dataframe thead th {\n",
       "        text-align: left;\n",
       "    }\n",
       "\n",
       "    .dataframe tbody tr th {\n",
       "        vertical-align: top;\n",
       "    }\n",
       "</style>\n",
       "<table border=\"1\" class=\"dataframe\">\n",
       "  <thead>\n",
       "    <tr style=\"text-align: right;\">\n",
       "      <th></th>\n",
       "      <th>m1</th>\n",
       "      <th>m2</th>\n",
       "      <th>m3</th>\n",
       "      <th>class</th>\n",
       "    </tr>\n",
       "  </thead>\n",
       "  <tbody>\n",
       "    <tr>\n",
       "      <th>s1</th>\n",
       "      <td>1</td>\n",
       "      <td>0</td>\n",
       "      <td>1</td>\n",
       "      <td>1</td>\n",
       "    </tr>\n",
       "    <tr>\n",
       "      <th>s2</th>\n",
       "      <td>0</td>\n",
       "      <td>1</td>\n",
       "      <td>1</td>\n",
       "      <td>1</td>\n",
       "    </tr>\n",
       "    <tr>\n",
       "      <th>s3</th>\n",
       "      <td>0</td>\n",
       "      <td>0</td>\n",
       "      <td>1</td>\n",
       "      <td>1</td>\n",
       "    </tr>\n",
       "    <tr>\n",
       "      <th>s4</th>\n",
       "      <td>1</td>\n",
       "      <td>0</td>\n",
       "      <td>1</td>\n",
       "      <td>-1</td>\n",
       "    </tr>\n",
       "    <tr>\n",
       "      <th>s5</th>\n",
       "      <td>0</td>\n",
       "      <td>0</td>\n",
       "      <td>1</td>\n",
       "      <td>-1</td>\n",
       "    </tr>\n",
       "    <tr>\n",
       "      <th>s6</th>\n",
       "      <td>0</td>\n",
       "      <td>0</td>\n",
       "      <td>0</td>\n",
       "      <td>-1</td>\n",
       "    </tr>\n",
       "  </tbody>\n",
       "</table>\n",
       "</div>"
      ],
      "text/plain": [
       "    m1  m2  m3  class\n",
       "s1   1   0   1      1\n",
       "s2   0   1   1      1\n",
       "s3   0   0   1      1\n",
       "s4   1   0   1     -1\n",
       "s5   0   0   1     -1\n",
       "s6   0   0   0     -1"
      ]
     },
     "execution_count": 5,
     "metadata": {},
     "output_type": "execute_result"
    }
   ],
   "source": [
    "my_data"
   ]
  },
  {
   "cell_type": "code",
   "execution_count": 6,
   "metadata": {},
   "outputs": [
    {
     "data": {
      "text/plain": [
       "0.0"
      ]
     },
     "execution_count": 6,
     "metadata": {},
     "output_type": "execute_result"
    }
   ],
   "source": [
    "splitting_function(my_data,'m1')"
   ]
  },
  {
   "cell_type": "code",
   "execution_count": 8,
   "metadata": {},
   "outputs": [
    {
     "name": "stdout",
     "output_type": "stream",
     "text": [
      "m1 0.0\n",
      "m2 0.333333333333\n",
      "m3 0.333333333333\n"
     ]
    }
   ],
   "source": [
    "for i in my_data.columns[:-1]:\n",
    "    print i,splitting_function(my_data,i)\n",
    "    "
   ]
  },
  {
   "cell_type": "code",
   "execution_count": 10,
   "metadata": {
    "collapsed": true
   },
   "outputs": [],
   "source": [
    "my_seqs = my_data.index.tolist()"
   ]
  },
  {
   "cell_type": "code",
   "execution_count": 11,
   "metadata": {
    "collapsed": true
   },
   "outputs": [],
   "source": [
    "my_seqs.remove(\"s2\")"
   ]
  },
  {
   "cell_type": "code",
   "execution_count": 12,
   "metadata": {},
   "outputs": [
    {
     "data": {
      "text/plain": [
       "['s1', 's3', 's4', 's5', 's6']"
      ]
     },
     "execution_count": 12,
     "metadata": {},
     "output_type": "execute_result"
    }
   ],
   "source": [
    "my_seqs"
   ]
  },
  {
   "cell_type": "code",
   "execution_count": 13,
   "metadata": {
    "collapsed": true
   },
   "outputs": [],
   "source": [
    "my_data_2 = my_data.loc[my_seqs]"
   ]
  },
  {
   "cell_type": "code",
   "execution_count": 15,
   "metadata": {},
   "outputs": [
    {
     "name": "stdout",
     "output_type": "stream",
     "text": [
      "m1 0.16\n",
      "m2 0.0\n",
      "m3 0.32\n"
     ]
    }
   ],
   "source": [
    "for i in my_data_2.columns[:-1]:\n",
    "    print i,splitting_function(my_data_2,i)\n",
    "    "
   ]
  },
  {
   "cell_type": "code",
   "execution_count": 17,
   "metadata": {},
   "outputs": [],
   "source": [
    "my_seqs.remove(\"s6\")"
   ]
  },
  {
   "cell_type": "code",
   "execution_count": 18,
   "metadata": {},
   "outputs": [
    {
     "data": {
      "text/plain": [
       "['s1', 's3', 's4', 's5']"
      ]
     },
     "execution_count": 18,
     "metadata": {},
     "output_type": "execute_result"
    }
   ],
   "source": [
    "my_seqs"
   ]
  },
  {
   "cell_type": "code",
   "execution_count": 19,
   "metadata": {
    "collapsed": true
   },
   "outputs": [],
   "source": [
    "my_data_3 = my_data.loc[my_seqs]"
   ]
  },
  {
   "cell_type": "code",
   "execution_count": 20,
   "metadata": {},
   "outputs": [
    {
     "data": {
      "text/html": [
       "<div>\n",
       "<style>\n",
       "    .dataframe thead tr:only-child th {\n",
       "        text-align: right;\n",
       "    }\n",
       "\n",
       "    .dataframe thead th {\n",
       "        text-align: left;\n",
       "    }\n",
       "\n",
       "    .dataframe tbody tr th {\n",
       "        vertical-align: top;\n",
       "    }\n",
       "</style>\n",
       "<table border=\"1\" class=\"dataframe\">\n",
       "  <thead>\n",
       "    <tr style=\"text-align: right;\">\n",
       "      <th></th>\n",
       "      <th>m1</th>\n",
       "      <th>m2</th>\n",
       "      <th>m3</th>\n",
       "      <th>class</th>\n",
       "    </tr>\n",
       "  </thead>\n",
       "  <tbody>\n",
       "    <tr>\n",
       "      <th>s1</th>\n",
       "      <td>1</td>\n",
       "      <td>0</td>\n",
       "      <td>1</td>\n",
       "      <td>1</td>\n",
       "    </tr>\n",
       "    <tr>\n",
       "      <th>s3</th>\n",
       "      <td>0</td>\n",
       "      <td>0</td>\n",
       "      <td>1</td>\n",
       "      <td>1</td>\n",
       "    </tr>\n",
       "    <tr>\n",
       "      <th>s4</th>\n",
       "      <td>1</td>\n",
       "      <td>0</td>\n",
       "      <td>1</td>\n",
       "      <td>-1</td>\n",
       "    </tr>\n",
       "    <tr>\n",
       "      <th>s5</th>\n",
       "      <td>0</td>\n",
       "      <td>0</td>\n",
       "      <td>1</td>\n",
       "      <td>-1</td>\n",
       "    </tr>\n",
       "  </tbody>\n",
       "</table>\n",
       "</div>"
      ],
      "text/plain": [
       "    m1  m2  m3  class\n",
       "s1   1   0   1      1\n",
       "s3   0   0   1      1\n",
       "s4   1   0   1     -1\n",
       "s5   0   0   1     -1"
      ]
     },
     "execution_count": 20,
     "metadata": {},
     "output_type": "execute_result"
    }
   ],
   "source": [
    "my_data_3"
   ]
  },
  {
   "cell_type": "code",
   "execution_count": 21,
   "metadata": {},
   "outputs": [
    {
     "name": "stdout",
     "output_type": "stream",
     "text": [
      "m1 0.0\n",
      "m2 0.0\n",
      "m3 0.0\n"
     ]
    }
   ],
   "source": [
    "for i in my_data_3.columns[:-1]:\n",
    "    print i,splitting_function(my_data_3,i)\n",
    "    "
   ]
  },
  {
   "cell_type": "code",
   "execution_count": 64,
   "metadata": {},
   "outputs": [
    {
     "name": "stdout",
     "output_type": "stream",
     "text": [
      "\n"
     ]
    }
   ],
   "source": [
    "class Node:\n",
    "    def __init__(self,motif,data):\n",
    "        self.left=False\n",
    "        self.right=False\n",
    "        self.motif=motif\n",
    "        self.data=data\n",
    "        self.lable = \"\"\n",
    "        self.leaf = False\n",
    "        \n",
    "    def insert_left(self):\n",
    "        #check if a leaf node\n",
    "  \n",
    "        left_data = self.data[self.data[self.motif] == 1]\n",
    "        best_motif, best_phi = find_best_motif(left_data)\n",
    "        #check if this node will be a leaf, meaning that we will stop insert node\n",
    "        if best_phi == 0 or len(left_data.index) <= 1:\n",
    "            \n",
    "            lable = find_label_leaf(left_data)\n",
    "            leaf_node = Node(\"leaf\",left_data)\n",
    "            leaf_node.leaf = True\n",
    "            leaf_node.label = lable\n",
    "            self.left = leaf_node\n",
    "        else:\n",
    "            left_node = Node(best_motif,left_data)\n",
    "            self.left = left_node\n",
    "    def insert_right(self):\n",
    "        #check if a leaf node\n",
    "        right_data = self.data[self.data[self.motif] == 0]\n",
    "        best_motif, best_phi = find_best_motif(right_data)\n",
    "        #check if this node will be a leaf, meaning that we will stop insert node\n",
    "        if best_phi == 0 or len(right_data.index) <= 1:\n",
    "            \n",
    "            lable = find_label_leaf(right_data)\n",
    "            leaf_node = Node(\"leaf\",right_data)\n",
    "            leaf_node.leaf = True\n",
    "            leaf_node.label = lable\n",
    "            self.right = leaf_node\n",
    "        else:\n",
    "            right_node = Node(best_motif,right_data)\n",
    "            self.right = right_node\n",
    "            \n",
    "def inorder_traversal(node):\n",
    "    print node.motif\n",
    "    if node.leaf:\n",
    "        print node.label\n",
    "    if node.left:\n",
    "        inorder_traversal(node.left)\n",
    "    if node.right:\n",
    "        inorder_traversal(node.right)\n",
    "        \n",
    "def decision_tree_prediction(node,data,seq):\n",
    "    #check leaf node\n",
    "    if node.leaf:\n",
    "        return node.label\n",
    "    value = data.at[seq,node.motif]\n",
    "    if value == 1:\n",
    "        next_node = node.left\n",
    "    else:\n",
    "        next_node = node.right\n",
    "    return decision_tree_prediction(next_node,data,seq)"
   ]
  },
  {
   "cell_type": "code",
   "execution_count": null,
   "metadata": {
    "collapsed": true
   },
   "outputs": [],
   "source": []
  },
  {
   "cell_type": "code",
   "execution_count": 66,
   "metadata": {
    "collapsed": true
   },
   "outputs": [],
   "source": [
    "def find_label_leaf(data):\n",
    "    pos_num = len(data[data['class']==1].index)\n",
    "    neg_num = len(data[data['class']==-1].index)\n",
    "    if pos_num >= neg_num:\n",
    "        return 1\n",
    "    else:\n",
    "        return -1\n",
    "    "
   ]
  },
  {
   "cell_type": "code",
   "execution_count": 54,
   "metadata": {
    "collapsed": true
   },
   "outputs": [],
   "source": [
    "def grow_tree(node):\n",
    "    if not node.leaf:\n",
    "        node.insert_left()\n",
    "        node.insert_right()\n",
    "        grow_tree(node.left)\n",
    "        grow_tree(node.right)\n",
    "        "
   ]
  },
  {
   "cell_type": "code",
   "execution_count": 55,
   "metadata": {
    "collapsed": true
   },
   "outputs": [],
   "source": [
    "root = Node(\"m2\",my_data)\n"
   ]
  },
  {
   "cell_type": "code",
   "execution_count": 56,
   "metadata": {},
   "outputs": [],
   "source": [
    "grow_tree(root)"
   ]
  },
  {
   "cell_type": "code",
   "execution_count": 57,
   "metadata": {},
   "outputs": [
    {
     "name": "stdout",
     "output_type": "stream",
     "text": [
      "m2\n",
      "leaf\n",
      "1\n",
      "m3\n",
      "leaf\n",
      "-1\n",
      "leaf\n",
      "-1\n"
     ]
    }
   ],
   "source": [
    "inorder_traversal(root)"
   ]
  },
  {
   "cell_type": "code",
   "execution_count": 65,
   "metadata": {},
   "outputs": [
    {
     "name": "stdout",
     "output_type": "stream",
     "text": [
      "s1 -1\n",
      "s2 1\n",
      "s3 -1\n",
      "s4 -1\n",
      "s5 -1\n",
      "s6 -1\n"
     ]
    }
   ],
   "source": [
    "for i in my_data.index.tolist():\n",
    "    print i,decision_tree_prediction(root,my_data,i)"
   ]
  },
  {
   "cell_type": "markdown",
   "metadata": {},
   "source": []
  }
 ],
 "metadata": {
  "kernelspec": {
   "display_name": "Python 2",
   "language": "python",
   "name": "python2"
  },
  "language_info": {
   "codemirror_mode": {
    "name": "ipython",
    "version": 2
   },
   "file_extension": ".py",
   "mimetype": "text/x-python",
   "name": "python",
   "nbconvert_exporter": "python",
   "pygments_lexer": "ipython2",
   "version": "2.7.6"
  }
 },
 "nbformat": 4,
 "nbformat_minor": 2
}
